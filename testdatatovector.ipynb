{
 "cells": [
  {
   "cell_type": "code",
   "execution_count": 1,
   "metadata": {
    "collapsed": true
   },
   "outputs": [],
   "source": [
    "import numpy as np\n",
    "import pandas as pd\n",
    "import tensorflow as tf\n",
    "import matplotlib.pyplot as plt\n",
    "%matplotlib inline\n",
    "import re\n",
    "from sklearn.preprocessing import scale\n",
    "from nltk.corpus import stopwords\n",
    "import nltk\n",
    "\n",
    "from __future__ import absolute_import\n",
    "from __future__ import division\n",
    "from __future__ import print_function\n",
    "\n",
    "import collections\n",
    "import math\n",
    "import os\n",
    "import random\n",
    "import zipfile\n",
    "\n",
    "import numpy as np\n",
    "from six.moves import urllib\n",
    "from six.moves import xrange  \n",
    "import tensorflow as tf"
   ]
  },
  {
   "cell_type": "code",
   "execution_count": 2,
   "metadata": {
    "collapsed": true
   },
   "outputs": [],
   "source": [
    "df = pd.read_csv('./data/announcements.csv')"
   ]
  },
  {
   "cell_type": "code",
   "execution_count": 3,
   "metadata": {
    "collapsed": false
   },
   "outputs": [
    {
     "name": "stderr",
     "output_type": "stream",
     "text": [
      "/opt/anaconda3/lib/python3.5/site-packages/ipykernel/__main__.py:1: FutureWarning: icol(i) is deprecated. Please use .iloc[:,i]\n",
      "  if __name__ == '__main__':\n",
      "/opt/anaconda3/lib/python3.5/site-packages/ipykernel/__main__.py:2: FutureWarning: icol(i) is deprecated. Please use .iloc[:,i]\n",
      "  from ipykernel import kernelapp as app\n"
     ]
    }
   ],
   "source": [
    "titles = df.icol(0)\n",
    "body = df.icol(1)\n",
    "# 4167 is total number of the emails\n",
    "N = 4167  \n",
    "body = body.reshape(N,1)\n",
    "titles = titles.reshape(N,1)"
   ]
  },
  {
   "cell_type": "code",
   "execution_count": 4,
   "metadata": {
    "collapsed": true
   },
   "outputs": [],
   "source": [
    "def sentence_to_words( sentence ):\n",
    "    # Function to convert a raw review to a string of words\n",
    "    # The input is a single string (a raw movie review), and \n",
    "    # the output is a single string (a preprocessed movie review)\n",
    "    #\n",
    "    # 2. Remove non-letters        \n",
    "    letters_only = re.sub(\"[^a-zA-Z]\", \" \", sentence) \n",
    "    #\n",
    "    # 3. Convert to lower case, split into individual words\n",
    "    words = letters_only.lower().split()                             \n",
    "    #\n",
    "    # 4. In Python, searching a set is much faster than searching\n",
    "    #   a list, so convert the stop words to a set\n",
    "    stops = set(stopwords.words(\"english\"))                  \n",
    "    # \n",
    "    # 5. Remove stop words\n",
    "    meaningful_words = [w for w in words if not w in stops]   \n",
    "    #\n",
    "    # 6. Join the words back into one string separated by space, \n",
    "    # and return the result.\n",
    "    #return( \" \".join( meaningful_words ))  \n",
    "    return meaningful_words"
   ]
  },
  {
   "cell_type": "code",
   "execution_count": 5,
   "metadata": {
    "collapsed": true
   },
   "outputs": [],
   "source": [
    "def email_to_words():\n",
    "    list = []\n",
    "    for i in range(N):\n",
    "        array = sentence_to_words(titles[i][0])\n",
    "        list.extend(array)\n",
    "        if(isinstance(body[i][0], str)):\n",
    "            array = sentence_to_words(body[i][0])\n",
    "            list.extend(array)\n",
    "    return list"
   ]
  },
  {
   "cell_type": "code",
   "execution_count": 6,
   "metadata": {
    "collapsed": false
   },
   "outputs": [
    {
     "data": {
      "text/plain": [
       "159378"
      ]
     },
     "execution_count": 6,
     "metadata": {},
     "output_type": "execute_result"
    }
   ],
   "source": [
    "list = email_to_words()\n",
    "len(list)"
   ]
  },
  {
   "cell_type": "code",
   "execution_count": 7,
   "metadata": {
    "collapsed": true
   },
   "outputs": [],
   "source": [
    "words = list\n",
    "count = [['UNK', -1]]\n",
    "vocabulary_size = 3000"
   ]
  },
  {
   "cell_type": "code",
   "execution_count": 8,
   "metadata": {
    "collapsed": true
   },
   "outputs": [],
   "source": [
    "def build_dataset(words):\n",
    "    count = [['UNK', -1]]\n",
    "    count.extend(collections.Counter(words).most_common(vocabulary_size - 1))\n",
    "    dictionary = dict()\n",
    "    for word, _ in count:\n",
    "        dictionary[word] = len(dictionary)\n",
    "    data = []\n",
    "    unk_count = 0\n",
    "    for word in words:\n",
    "        if word in dictionary:\n",
    "            index = dictionary[word]\n",
    "        else:\n",
    "            index = 0  # dictionary['UNK']\n",
    "            unk_count += 1\n",
    "        data.append(index)\n",
    "    count[0][1] = unk_count\n",
    "    reverse_dictionary = dict(zip(dictionary.values(), dictionary.keys()))\n",
    "    return data, count, dictionary, reverse_dictionary"
   ]
  },
  {
   "cell_type": "code",
   "execution_count": 9,
   "metadata": {
    "collapsed": true
   },
   "outputs": [],
   "source": [
    "data, count, dictionary, reverse_dictionary = build_dataset(words)"
   ]
  },
  {
   "cell_type": "code",
   "execution_count": 10,
   "metadata": {
    "collapsed": true
   },
   "outputs": [],
   "source": [
    "del words  # Hint to reduce memory."
   ]
  },
  {
   "cell_type": "code",
   "execution_count": 11,
   "metadata": {
    "collapsed": false
   },
   "outputs": [
    {
     "name": "stdout",
     "output_type": "stream",
     "text": [
      "Most common words (+UNK) [['UNK', 20378], ('rose', 3020), ('hulman', 2705), ('edu', 2386), ('please', 1651)]\n"
     ]
    }
   ],
   "source": [
    "print('Most common words (+UNK)', count[:5])"
   ]
  },
  {
   "cell_type": "code",
   "execution_count": 12,
   "metadata": {
    "collapsed": false
   },
   "outputs": [
    {
     "name": "stdout",
     "output_type": "stream",
     "text": [
      "Sample data [17, 11, 34, 39, 42, 1, 598, 27, 63, 162] ['need', 'ride', 'indy', 'airport', 'back', 'rose', 'happy', 'new', 'year', 'everyone']\n"
     ]
    }
   ],
   "source": [
    "print('Sample data', data[:10], [reverse_dictionary[i] for i in data[:10]])"
   ]
  },
  {
   "cell_type": "markdown",
   "metadata": {},
   "source": [
    "#### preprocessing test emails"
   ]
  },
  {
   "cell_type": "code",
   "execution_count": 21,
   "metadata": {
    "collapsed": false
   },
   "outputs": [],
   "source": [
    "df_testdata = pd.read_csv('./data/test_try1.csv')"
   ]
  },
  {
   "cell_type": "code",
   "execution_count": 22,
   "metadata": {
    "collapsed": false
   },
   "outputs": [
    {
     "data": {
      "text/html": [
       "<div>\n",
       "<table border=\"1\" class=\"dataframe\">\n",
       "  <thead>\n",
       "    <tr style=\"text-align: right;\">\n",
       "      <th></th>\n",
       "      <th>Created</th>\n",
       "      <th>Title</th>\n",
       "      <th>Body</th>\n",
       "      <th>Item Type</th>\n",
       "      <th>Path</th>\n",
       "    </tr>\n",
       "  </thead>\n",
       "  <tbody>\n",
       "    <tr>\n",
       "      <th>0</th>\n",
       "      <td>9/27/10 15:30</td>\n",
       "      <td>Lost T-Shirt</td>\n",
       "      <td>On Monday, September 20, I've left my black t-...</td>\n",
       "      <td>Item</td>\n",
       "      <td>announcements/Lists/Personal</td>\n",
       "    </tr>\n",
       "    <tr>\n",
       "      <th>1</th>\n",
       "      <td>3/7/11 13:24</td>\n",
       "      <td>LOST POWER CORD</td>\n",
       "      <td>\\nPower cord has been lost either in D114 or i...</td>\n",
       "      <td>Item</td>\n",
       "      <td>announcements/Lists/Personal</td>\n",
       "    </tr>\n",
       "    <tr>\n",
       "      <th>2</th>\n",
       "      <td>4/15/11 13:31</td>\n",
       "      <td>SURVEY OH MY GOSH IT\"S A SURVEY ABOUT NAPKIN D...</td>\n",
       "      <td>HEY! Remember when you were in that design cla...</td>\n",
       "      <td>Item</td>\n",
       "      <td>announcements/Lists/Personal</td>\n",
       "    </tr>\n",
       "    <tr>\n",
       "      <th>3</th>\n",
       "      <td>8/28/11 23:25</td>\n",
       "      <td>Physics Textbook for sale.</td>\n",
       "      <td>Physics textbook, purchased last year.  Physic...</td>\n",
       "      <td>Item</td>\n",
       "      <td>announcements/Lists/Personal</td>\n",
       "    </tr>\n",
       "    <tr>\n",
       "      <th>4</th>\n",
       "      <td>9/11/11 18:54</td>\n",
       "      <td>Computer for Sale</td>\n",
       "      <td>I am selling a desktop computer for $250. It i...</td>\n",
       "      <td>Item</td>\n",
       "      <td>announcements/Lists/Personal</td>\n",
       "    </tr>\n",
       "  </tbody>\n",
       "</table>\n",
       "</div>"
      ],
      "text/plain": [
       "         Created                                              Title  \\\n",
       "0  9/27/10 15:30                                       Lost T-Shirt   \n",
       "1   3/7/11 13:24                                    LOST POWER CORD   \n",
       "2  4/15/11 13:31  SURVEY OH MY GOSH IT\"S A SURVEY ABOUT NAPKIN D...   \n",
       "3  8/28/11 23:25                         Physics Textbook for sale.   \n",
       "4  9/11/11 18:54                                  Computer for Sale   \n",
       "\n",
       "                                                Body Item Type  \\\n",
       "0  On Monday, September 20, I've left my black t-...      Item   \n",
       "1  \\nPower cord has been lost either in D114 or i...      Item   \n",
       "2  HEY! Remember when you were in that design cla...      Item   \n",
       "3  Physics textbook, purchased last year.  Physic...      Item   \n",
       "4  I am selling a desktop computer for $250. It i...      Item   \n",
       "\n",
       "                           Path  \n",
       "0  announcements/Lists/Personal  \n",
       "1  announcements/Lists/Personal  \n",
       "2  announcements/Lists/Personal  \n",
       "3  announcements/Lists/Personal  \n",
       "4  announcements/Lists/Personal  "
      ]
     },
     "execution_count": 22,
     "metadata": {},
     "output_type": "execute_result"
    }
   ],
   "source": [
    "df_testdata.head()"
   ]
  },
  {
   "cell_type": "code",
   "execution_count": 24,
   "metadata": {
    "collapsed": false
   },
   "outputs": [
    {
     "name": "stderr",
     "output_type": "stream",
     "text": [
      "/opt/anaconda3/lib/python3.5/site-packages/ipykernel/__main__.py:1: FutureWarning: icol(i) is deprecated. Please use .iloc[:,i]\n",
      "  if __name__ == '__main__':\n",
      "/opt/anaconda3/lib/python3.5/site-packages/ipykernel/__main__.py:2: FutureWarning: icol(i) is deprecated. Please use .iloc[:,i]\n",
      "  from ipykernel import kernelapp as app\n"
     ]
    }
   ],
   "source": [
    "titles = df_testdata.icol(1)\n",
    "body = df_testdata.icol(2)"
   ]
  },
  {
   "cell_type": "code",
   "execution_count": 62,
   "metadata": {
    "collapsed": false
   },
   "outputs": [
    {
     "data": {
      "text/plain": [
       "(7313,)"
      ]
     },
     "execution_count": 62,
     "metadata": {},
     "output_type": "execute_result"
    }
   ],
   "source": [
    "body.shape"
   ]
  },
  {
   "cell_type": "code",
   "execution_count": 63,
   "metadata": {
    "collapsed": true
   },
   "outputs": [],
   "source": [
    "N = 7313"
   ]
  },
  {
   "cell_type": "code",
   "execution_count": 64,
   "metadata": {
    "collapsed": false
   },
   "outputs": [],
   "source": [
    "df_embed = pd.read_csv('./data/final_embedding.csv')"
   ]
  },
  {
   "cell_type": "code",
   "execution_count": 65,
   "metadata": {
    "collapsed": false
   },
   "outputs": [
    {
     "data": {
      "text/html": [
       "<div>\n",
       "<table border=\"1\" class=\"dataframe\">\n",
       "  <thead>\n",
       "    <tr style=\"text-align: right;\">\n",
       "      <th></th>\n",
       "      <th>Unnamed: 0</th>\n",
       "      <th>0</th>\n",
       "      <th>1</th>\n",
       "      <th>2</th>\n",
       "      <th>3</th>\n",
       "      <th>4</th>\n",
       "      <th>5</th>\n",
       "      <th>6</th>\n",
       "      <th>7</th>\n",
       "      <th>8</th>\n",
       "      <th>...</th>\n",
       "      <th>118</th>\n",
       "      <th>119</th>\n",
       "      <th>120</th>\n",
       "      <th>121</th>\n",
       "      <th>122</th>\n",
       "      <th>123</th>\n",
       "      <th>124</th>\n",
       "      <th>125</th>\n",
       "      <th>126</th>\n",
       "      <th>127</th>\n",
       "    </tr>\n",
       "  </thead>\n",
       "  <tbody>\n",
       "    <tr>\n",
       "      <th>0</th>\n",
       "      <td>0</td>\n",
       "      <td>0.090831</td>\n",
       "      <td>0.071408</td>\n",
       "      <td>-0.015945</td>\n",
       "      <td>0.254145</td>\n",
       "      <td>-0.010695</td>\n",
       "      <td>0.229046</td>\n",
       "      <td>-0.033513</td>\n",
       "      <td>-0.090405</td>\n",
       "      <td>0.213907</td>\n",
       "      <td>...</td>\n",
       "      <td>0.055312</td>\n",
       "      <td>0.162304</td>\n",
       "      <td>0.120240</td>\n",
       "      <td>-0.016991</td>\n",
       "      <td>-0.025453</td>\n",
       "      <td>-0.012157</td>\n",
       "      <td>-0.108012</td>\n",
       "      <td>0.097278</td>\n",
       "      <td>0.051454</td>\n",
       "      <td>-0.041614</td>\n",
       "    </tr>\n",
       "    <tr>\n",
       "      <th>1</th>\n",
       "      <td>1</td>\n",
       "      <td>-0.041176</td>\n",
       "      <td>-0.018642</td>\n",
       "      <td>-0.163324</td>\n",
       "      <td>0.057316</td>\n",
       "      <td>0.017544</td>\n",
       "      <td>-0.105726</td>\n",
       "      <td>-0.021705</td>\n",
       "      <td>-0.192541</td>\n",
       "      <td>0.136645</td>\n",
       "      <td>...</td>\n",
       "      <td>0.097817</td>\n",
       "      <td>0.049488</td>\n",
       "      <td>-0.092370</td>\n",
       "      <td>-0.126346</td>\n",
       "      <td>0.040714</td>\n",
       "      <td>0.093636</td>\n",
       "      <td>-0.065419</td>\n",
       "      <td>0.054761</td>\n",
       "      <td>0.132670</td>\n",
       "      <td>-0.061487</td>\n",
       "    </tr>\n",
       "    <tr>\n",
       "      <th>2</th>\n",
       "      <td>2</td>\n",
       "      <td>0.026670</td>\n",
       "      <td>0.037819</td>\n",
       "      <td>-0.117624</td>\n",
       "      <td>-0.033714</td>\n",
       "      <td>0.155645</td>\n",
       "      <td>-0.018152</td>\n",
       "      <td>-0.003465</td>\n",
       "      <td>-0.207928</td>\n",
       "      <td>0.109318</td>\n",
       "      <td>...</td>\n",
       "      <td>-0.075659</td>\n",
       "      <td>0.045242</td>\n",
       "      <td>0.090872</td>\n",
       "      <td>0.075135</td>\n",
       "      <td>-0.198950</td>\n",
       "      <td>0.047245</td>\n",
       "      <td>0.030635</td>\n",
       "      <td>0.074394</td>\n",
       "      <td>0.116719</td>\n",
       "      <td>0.022163</td>\n",
       "    </tr>\n",
       "    <tr>\n",
       "      <th>3</th>\n",
       "      <td>3</td>\n",
       "      <td>0.047291</td>\n",
       "      <td>-0.061027</td>\n",
       "      <td>0.023446</td>\n",
       "      <td>0.117821</td>\n",
       "      <td>0.014034</td>\n",
       "      <td>-0.142155</td>\n",
       "      <td>0.020697</td>\n",
       "      <td>-0.102846</td>\n",
       "      <td>0.019864</td>\n",
       "      <td>...</td>\n",
       "      <td>-0.042347</td>\n",
       "      <td>0.088607</td>\n",
       "      <td>0.179124</td>\n",
       "      <td>-0.007854</td>\n",
       "      <td>0.028658</td>\n",
       "      <td>0.107261</td>\n",
       "      <td>-0.061317</td>\n",
       "      <td>0.020750</td>\n",
       "      <td>0.077657</td>\n",
       "      <td>0.070614</td>\n",
       "    </tr>\n",
       "    <tr>\n",
       "      <th>4</th>\n",
       "      <td>4</td>\n",
       "      <td>0.082039</td>\n",
       "      <td>0.049939</td>\n",
       "      <td>-0.015991</td>\n",
       "      <td>0.005912</td>\n",
       "      <td>-0.079839</td>\n",
       "      <td>0.034675</td>\n",
       "      <td>-0.076623</td>\n",
       "      <td>0.105315</td>\n",
       "      <td>0.048360</td>\n",
       "      <td>...</td>\n",
       "      <td>0.018757</td>\n",
       "      <td>0.143541</td>\n",
       "      <td>0.017612</td>\n",
       "      <td>0.002007</td>\n",
       "      <td>0.110670</td>\n",
       "      <td>0.058479</td>\n",
       "      <td>-0.092609</td>\n",
       "      <td>-0.117860</td>\n",
       "      <td>0.212146</td>\n",
       "      <td>-0.003607</td>\n",
       "    </tr>\n",
       "  </tbody>\n",
       "</table>\n",
       "<p>5 rows × 129 columns</p>\n",
       "</div>"
      ],
      "text/plain": [
       "   Unnamed: 0         0         1         2         3         4         5  \\\n",
       "0           0  0.090831  0.071408 -0.015945  0.254145 -0.010695  0.229046   \n",
       "1           1 -0.041176 -0.018642 -0.163324  0.057316  0.017544 -0.105726   \n",
       "2           2  0.026670  0.037819 -0.117624 -0.033714  0.155645 -0.018152   \n",
       "3           3  0.047291 -0.061027  0.023446  0.117821  0.014034 -0.142155   \n",
       "4           4  0.082039  0.049939 -0.015991  0.005912 -0.079839  0.034675   \n",
       "\n",
       "          6         7         8    ...          118       119       120  \\\n",
       "0 -0.033513 -0.090405  0.213907    ...     0.055312  0.162304  0.120240   \n",
       "1 -0.021705 -0.192541  0.136645    ...     0.097817  0.049488 -0.092370   \n",
       "2 -0.003465 -0.207928  0.109318    ...    -0.075659  0.045242  0.090872   \n",
       "3  0.020697 -0.102846  0.019864    ...    -0.042347  0.088607  0.179124   \n",
       "4 -0.076623  0.105315  0.048360    ...     0.018757  0.143541  0.017612   \n",
       "\n",
       "        121       122       123       124       125       126       127  \n",
       "0 -0.016991 -0.025453 -0.012157 -0.108012  0.097278  0.051454 -0.041614  \n",
       "1 -0.126346  0.040714  0.093636 -0.065419  0.054761  0.132670 -0.061487  \n",
       "2  0.075135 -0.198950  0.047245  0.030635  0.074394  0.116719  0.022163  \n",
       "3 -0.007854  0.028658  0.107261 -0.061317  0.020750  0.077657  0.070614  \n",
       "4  0.002007  0.110670  0.058479 -0.092609 -0.117860  0.212146 -0.003607  \n",
       "\n",
       "[5 rows x 129 columns]"
      ]
     },
     "execution_count": 65,
     "metadata": {},
     "output_type": "execute_result"
    }
   ],
   "source": [
    "df_embed.head()"
   ]
  },
  {
   "cell_type": "code",
   "execution_count": 66,
   "metadata": {
    "collapsed": false
   },
   "outputs": [],
   "source": [
    "import pandas as pd\n",
    "df=pd.read_csv('./data/final_embedding.csv', sep=',',header=None)\n",
    "final_embeddings = df.values"
   ]
  },
  {
   "cell_type": "code",
   "execution_count": 67,
   "metadata": {
    "collapsed": false
   },
   "outputs": [
    {
     "data": {
      "text/plain": [
       "(3001, 129)"
      ]
     },
     "execution_count": 67,
     "metadata": {},
     "output_type": "execute_result"
    }
   ],
   "source": [
    "final_embeddings.shape"
   ]
  },
  {
   "cell_type": "code",
   "execution_count": 68,
   "metadata": {
    "collapsed": false
   },
   "outputs": [],
   "source": [
    "final_embeddings = final_embeddings[1:3002,1:129]"
   ]
  },
  {
   "cell_type": "code",
   "execution_count": 100,
   "metadata": {
    "collapsed": false
   },
   "outputs": [],
   "source": [
    "def findembeding(word):\n",
    "    if word in dictionary:\n",
    "        value = dictionary[word]\n",
    "        return final_embeddings[value]\n",
    "    else:\n",
    "        return final_embeddings[0]"
   ]
  },
  {
   "cell_type": "code",
   "execution_count": 106,
   "metadata": {
    "collapsed": true
   },
   "outputs": [],
   "source": [
    "#represent an email with a 128 dimension vector\n",
    "def meanonemail(i):\n",
    "    onelist = []\n",
    "    result = np.ones(128)\n",
    "    result = np.append([result], [result], axis=0)\n",
    "    \n",
    "    if(isinstance(titles[i], str)):\n",
    "        array = sentence_to_words(titles[i])\n",
    "        onelist.extend(array)\n",
    "    # array = sentence_to_words(titles[i])\n",
    "    # onelist.extend(array)\n",
    "    if(isinstance(body[i], str)):\n",
    "        array = sentence_to_words(body[i])\n",
    "        onelist.extend(array)\n",
    "    N = len(onelist)\n",
    "    \n",
    "    for count in range(N):\n",
    "        word = onelist[count]\n",
    "        embed = findembeding(word)\n",
    "        \n",
    "        result = np.append(result, [embed], axis=0)\n",
    "    \n",
    "    row = result.shape[0]\n",
    "    result = result[2:row]\n",
    "    \n",
    "    return np.mean(result, axis=0)"
   ]
  },
  {
   "cell_type": "code",
   "execution_count": 111,
   "metadata": {
    "collapsed": false
   },
   "outputs": [],
   "source": [
    "#this result should be saved\n",
    "def representeveryemail():\n",
    "    result = []\n",
    "    for i in range(N):\n",
    "        #print(i)\n",
    "        result.append(meanonemail(i))\n",
    "    return result  "
   ]
  },
  {
   "cell_type": "code",
   "execution_count": 112,
   "metadata": {
    "collapsed": false
   },
   "outputs": [
    {
     "name": "stderr",
     "output_type": "stream",
     "text": [
      "/opt/anaconda3/lib/python3.5/site-packages/numpy/core/_methods.py:59: RuntimeWarning: Mean of empty slice.\n",
      "  warnings.warn(\"Mean of empty slice.\", RuntimeWarning)\n"
     ]
    }
   ],
   "source": [
    "result = representeveryemail()"
   ]
  },
  {
   "cell_type": "code",
   "execution_count": 115,
   "metadata": {
    "collapsed": false
   },
   "outputs": [],
   "source": [
    "import csv\n",
    "with open('./data/testemailvector.csv', 'w') as mycsvfile:\n",
    "    thedatawriter = csv.writer(mycsvfile)\n",
    "    for row in result:\n",
    "        thedatawriter.writerow(row)"
   ]
  },
  {
   "cell_type": "code",
   "execution_count": null,
   "metadata": {
    "collapsed": true
   },
   "outputs": [],
   "source": []
  }
 ],
 "metadata": {
  "kernelspec": {
   "display_name": "Python [Root]",
   "language": "python",
   "name": "Python [Root]"
  },
  "language_info": {
   "codemirror_mode": {
    "name": "ipython",
    "version": 3
   },
   "file_extension": ".py",
   "mimetype": "text/x-python",
   "name": "python",
   "nbconvert_exporter": "python",
   "pygments_lexer": "ipython3",
   "version": "3.5.2"
  }
 },
 "nbformat": 4,
 "nbformat_minor": 0
}
