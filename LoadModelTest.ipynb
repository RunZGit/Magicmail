{
 "cells": [
  {
   "cell_type": "code",
   "execution_count": 1,
   "metadata": {
    "collapsed": false
   },
   "outputs": [],
   "source": [
    "from gensim.models import Word2Vec\n",
    "import numpy as np\n",
    "from sklearn.manifold import TSNE\n",
    "import pandas as pd\n",
    "from bokeh.charts import Scatter, show, output_file\n",
    "from bokeh.models import LabelSet, ColumnDataSource"
   ]
  },
  {
   "cell_type": "code",
   "execution_count": 2,
   "metadata": {
    "collapsed": false
   },
   "outputs": [],
   "source": [
    "model = Word2Vec.load(\"300features_40minwords_10context_AnnouncementTitle\")\n",
    "#lower the dimention of each word vector\n",
    "tsne=TSNE(random_state=0)\n",
    "np.set_printoptions(suppress=True)"
   ]
  },
  {
   "cell_type": "code",
   "execution_count": 3,
   "metadata": {
    "collapsed": false
   },
   "outputs": [
    {
     "data": {
      "text/plain": [
       "(602, 100)"
      ]
     },
     "execution_count": 3,
     "metadata": {},
     "output_type": "execute_result"
    }
   ],
   "source": [
    "model.syn0.shape"
   ]
  },
  {
   "cell_type": "code",
   "execution_count": 3,
   "metadata": {
    "collapsed": false
   },
   "outputs": [],
   "source": [
    "vec = np.empty((0,100), float)\n",
    "dic= list(model.vocab.keys())\n",
    "for i in dic:\n",
    "    vec = np.vstack((vec, model[i]))\n",
    "low_dim = tsne.fit_transform(vec)"
   ]
  },
  {
   "cell_type": "code",
   "execution_count": null,
   "metadata": {
    "collapsed": true
   },
   "outputs": [],
   "source": [
    "## create word graph\n",
    "df = pd.DataFrame(low_dim, columns=['x','y'])\n",
    "df['vocab'] = dic\n",
    "source = ColumnDataSource(data=dict(x=df['x'],\n",
    "                                    y=df['y'],\n",
    "                                    vocab=dic))\n",
    "p = Scatter(df, x='x', y='y', title = \"vocab in hypterdimention\")\n",
    "labels = LabelSet(x='x', y='y', text='vocab', level='glyph',\n",
    "              x_offset=5, y_offset=5, source=source, render_mode='canvas')\n",
    "p.add_layout(labels)\n",
    "# output_file(\"word2vec.html\", title=\"word2vec\")\n",
    "show(p)"
   ]
  }
 ],
 "metadata": {
  "anaconda-cloud": {},
  "kernelspec": {
   "display_name": "Python [conda root]",
   "language": "python",
   "name": "conda-root-py"
  },
  "language_info": {
   "codemirror_mode": {
    "name": "ipython",
    "version": 3
   },
   "file_extension": ".py",
   "mimetype": "text/x-python",
   "name": "python",
   "nbconvert_exporter": "python",
   "pygments_lexer": "ipython3",
   "version": "3.5.2"
  }
 },
 "nbformat": 4,
 "nbformat_minor": 1
}
