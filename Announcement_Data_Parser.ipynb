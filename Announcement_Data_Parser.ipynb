{
 "cells": [
  {
   "cell_type": "code",
   "execution_count": null,
   "metadata": {
    "collapsed": true
   },
   "outputs": [],
   "source": [
    "from bs4 import BeautifulSoup\n",
    "import pandas as pd"
   ]
  },
  {
   "cell_type": "code",
   "execution_count": null,
   "metadata": {
    "collapsed": false
   },
   "outputs": [],
   "source": [
    "#This could link to a database in the future\n",
    "# file = open(\"data/test.html\",'r')\n",
    "file = open(\"data/Announcements.txt\",'r')\n",
    "data = file.read()\n",
    "soup = BeautifulSoup(data,\"lxml\")\n",
    "file.close()"
   ]
  },
  {
   "cell_type": "code",
   "execution_count": null,
   "metadata": {
    "collapsed": false
   },
   "outputs": [],
   "source": [
    "#Beautifulsoup will find all the email information in <table class=\"content\">.....</table>\n",
    "val= soup.findAll('table', class_=\"content\")\n",
    "#This two CSS selectors are able to collect the body of sharepoint email\n",
    "selectors=['tr div div','td div']\n",
    "#create an empty dataframe\n",
    "df = pd.DataFrame()\n",
    "for content in val:\n",
    "    title = content.find('td', class_='formbody')\n",
    "    for selector in selectors:\n",
    "        body = content.select(selector)\n",
    "        if len(body) is not 0:\n",
    "            df = df.append([(title.text.strip(), body[0].text.strip())])\n",
    "            break          \n",
    "df.columns = ['Title', 'Body']"
   ]
  },
  {
   "cell_type": "code",
   "execution_count": null,
   "metadata": {
    "collapsed": true
   },
   "outputs": [],
   "source": [
    "df.to_csv(\"announcement_data.csv\")"
   ]
  },
  {
   "cell_type": "code",
   "execution_count": null,
   "metadata": {
    "collapsed": true
   },
   "outputs": [],
   "source": []
  }
 ],
 "metadata": {
  "anaconda-cloud": {},
  "kernelspec": {
   "display_name": "Python 3",
   "language": "python",
   "name": "python3"
  },
  "language_info": {
   "codemirror_mode": {
    "name": "ipython",
    "version": 3
   },
   "file_extension": ".py",
   "mimetype": "text/x-python",
   "name": "python",
   "nbconvert_exporter": "python",
   "pygments_lexer": "ipython3",
   "version": "3.5.2"
  }
 },
 "nbformat": 4,
 "nbformat_minor": 0
}
