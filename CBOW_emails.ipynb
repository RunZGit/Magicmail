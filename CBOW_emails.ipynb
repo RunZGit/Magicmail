{
 "cells": [
  {
   "cell_type": "code",
   "execution_count": 1,
   "metadata": {
    "collapsed": true
   },
   "outputs": [],
   "source": [
    "from gensim.models import Word2Vec\n",
    "import numpy as np\n",
    "from sklearn.manifold import TSNE\n",
    "import pandas as pd\n",
    "# Import various modules for string cleaning\n",
    "from bs4 import BeautifulSoup\n",
    "import re\n",
    "from nltk.corpus import stopwords"
   ]
  },
  {
   "cell_type": "code",
   "execution_count": 2,
   "metadata": {
    "collapsed": true
   },
   "outputs": [],
   "source": [
    "data = pd.read_csv('data/announcements.csv')\n",
    "model = Word2Vec.load(\"100features_5minwords_10context_AnnouncementTitle\")\n",
    "features = 100"
   ]
  },
  {
   "cell_type": "code",
   "execution_count": 3,
   "metadata": {
    "collapsed": false
   },
   "outputs": [],
   "source": [
    "def review_to_wordlist( review, remove_stopwords=False ):\n",
    "    # Function to convert a document to a sequence of words,\n",
    "    # optionally removing stop words.  Returns a list of words.\n",
    "    #\n",
    "    # 1. Remove HTML\n",
    "    review_text = BeautifulSoup(review).get_text()\n",
    "    #  \n",
    "    # 2. Remove non-letters\n",
    "    review_text = re.sub(\"[^a-zA-Z]\",\" \", review_text)\n",
    "    #\n",
    "    # 3. Convert words to lower case and split them\n",
    "    words = review_text.lower().split()\n",
    "    #\n",
    "    # 4. Optionally remove stop words (false by default)\n",
    "    if remove_stopwords:\n",
    "        stops = set(stopwords.words(\"english\"))\n",
    "        words = [w for w in words if not w in stops]\n",
    "    #\n",
    "    # 5. Return a list of words\n",
    "    return(words)"
   ]
  },
  {
   "cell_type": "code",
   "execution_count": 4,
   "metadata": {
    "collapsed": false
   },
   "outputs": [
    {
     "data": {
      "text/plain": [
       "(4167,)"
      ]
     },
     "execution_count": 4,
     "metadata": {},
     "output_type": "execute_result"
    }
   ],
   "source": [
    "data[\"Body\"].shape"
   ]
  },
  {
   "cell_type": "code",
   "execution_count": 5,
   "metadata": {
    "collapsed": false
   },
   "outputs": [
    {
     "name": "stdout",
     "output_type": "stream",
     "text": [
      "Parsing sentences from default set\n"
     ]
    },
    {
     "name": "stderr",
     "output_type": "stream",
     "text": [
      "/opt/anaconda3/lib/python3.5/site-packages/bs4/__init__.py:181: UserWarning: No parser was explicitly specified, so I'm using the best available HTML parser for this system (\"lxml\"). This usually isn't a problem, but if you run this code on another system, or in a different virtual environment, it may use a different parser and behave differently.\n",
      "\n",
      "The code that caused this warning is on line 184 of the file /opt/anaconda3/lib/python3.5/runpy.py. To get rid of this warning, change code that looks like this:\n",
      "\n",
      " BeautifulSoup([your markup])\n",
      "\n",
      "to this:\n",
      "\n",
      " BeautifulSoup([your markup], \"lxml\")\n",
      "\n",
      "  markup_type=markup_type))\n",
      "/opt/anaconda3/lib/python3.5/site-packages/bs4/__init__.py:282: UserWarning: \"http://www.matmartinez.net/nsfw/\" looks like a URL. Beautiful Soup is not an HTTP client. You should probably use an HTTP client like requests to get the document behind the URL, and feed that document to Beautiful Soup.\n",
      "  ' that document to Beautiful Soup.' % decoded_markup\n",
      "/opt/anaconda3/lib/python3.5/site-packages/bs4/__init__.py:282: UserWarning: \"http://images5.fanpop.com/image/photos/25500000/Aww-Yeah-random-25538108-268-209.gif\" looks like a URL. Beautiful Soup is not an HTTP client. You should probably use an HTTP client like requests to get the document behind the URL, and feed that document to Beautiful Soup.\n",
      "  ' that document to Beautiful Soup.' % decoded_markup\n"
     ]
    }
   ],
   "source": [
    "emails = [None] * data[\"Body\"].shape[0]  # Initialize an empty list of sentences\n",
    "\n",
    "print(\"Parsing sentences from default set\")\n",
    "i = 0\n",
    "for review in data[\"Body\"]:\n",
    "    emails[i] = review_to_wordlist(str(review))\n",
    "    i = i+1"
   ]
  },
  {
   "cell_type": "code",
   "execution_count": 6,
   "metadata": {
    "collapsed": false
   },
   "outputs": [
    {
     "name": "stdout",
     "output_type": "stream",
     "text": [
      "4167\n"
     ]
    }
   ],
   "source": [
    "size = len(emails)\n",
    "print(size)"
   ]
  },
  {
   "cell_type": "code",
   "execution_count": 7,
   "metadata": {
    "collapsed": false
   },
   "outputs": [
    {
     "data": {
      "text/plain": [
       "(100,)"
      ]
     },
     "execution_count": 7,
     "metadata": {},
     "output_type": "execute_result"
    }
   ],
   "source": [
    "model['a'].shape"
   ]
  },
  {
   "cell_type": "code",
   "execution_count": 8,
   "metadata": {
    "collapsed": false
   },
   "outputs": [],
   "source": [
    "cbow = [None] * data[\"Body\"].shape[0]\n",
    "i = 0\n",
    "for email in emails:\n",
    "    base = [0] * features\n",
    "    wordSkipped = 0\n",
    "    for word in email:\n",
    "        if model.vocab.get(word) is None :\n",
    "            wordSkipped = wordSkipped+1\n",
    "            continue\n",
    "        base = base + model[word]\n",
    "    cbow[i] = np.array(base) / (len(email) - wordSkipped)\n",
    "    i = i + 1   "
   ]
  },
  {
   "cell_type": "code",
   "execution_count": 9,
   "metadata": {
    "collapsed": false
   },
   "outputs": [],
   "source": [
    "cbow = pd.DataFrame(cbow)"
   ]
  },
  {
   "cell_type": "code",
   "execution_count": 10,
   "metadata": {
    "collapsed": false
   },
   "outputs": [
    {
     "data": {
      "text/html": [
       "<div>\n",
       "<table border=\"1\" class=\"dataframe\">\n",
       "  <thead>\n",
       "    <tr style=\"text-align: right;\">\n",
       "      <th></th>\n",
       "      <th>0</th>\n",
       "      <th>1</th>\n",
       "      <th>2</th>\n",
       "      <th>3</th>\n",
       "      <th>4</th>\n",
       "      <th>5</th>\n",
       "      <th>6</th>\n",
       "      <th>7</th>\n",
       "      <th>8</th>\n",
       "      <th>9</th>\n",
       "      <th>...</th>\n",
       "      <th>90</th>\n",
       "      <th>91</th>\n",
       "      <th>92</th>\n",
       "      <th>93</th>\n",
       "      <th>94</th>\n",
       "      <th>95</th>\n",
       "      <th>96</th>\n",
       "      <th>97</th>\n",
       "      <th>98</th>\n",
       "      <th>99</th>\n",
       "    </tr>\n",
       "  </thead>\n",
       "  <tbody>\n",
       "    <tr>\n",
       "      <th>0</th>\n",
       "      <td>-0.054458</td>\n",
       "      <td>-0.027328</td>\n",
       "      <td>-0.015995</td>\n",
       "      <td>-0.086978</td>\n",
       "      <td>0.051909</td>\n",
       "      <td>-0.046620</td>\n",
       "      <td>0.099372</td>\n",
       "      <td>0.117895</td>\n",
       "      <td>-0.050922</td>\n",
       "      <td>0.074041</td>\n",
       "      <td>...</td>\n",
       "      <td>0.096191</td>\n",
       "      <td>0.035673</td>\n",
       "      <td>-0.046638</td>\n",
       "      <td>0.020655</td>\n",
       "      <td>0.053338</td>\n",
       "      <td>-0.011624</td>\n",
       "      <td>0.050724</td>\n",
       "      <td>0.022764</td>\n",
       "      <td>0.037663</td>\n",
       "      <td>0.001001</td>\n",
       "    </tr>\n",
       "    <tr>\n",
       "      <th>1</th>\n",
       "      <td>-0.038013</td>\n",
       "      <td>-0.009144</td>\n",
       "      <td>-0.006346</td>\n",
       "      <td>-0.102329</td>\n",
       "      <td>0.070879</td>\n",
       "      <td>-0.034090</td>\n",
       "      <td>0.143415</td>\n",
       "      <td>0.127730</td>\n",
       "      <td>-0.084724</td>\n",
       "      <td>0.109901</td>\n",
       "      <td>...</td>\n",
       "      <td>0.132670</td>\n",
       "      <td>0.060247</td>\n",
       "      <td>-0.078525</td>\n",
       "      <td>0.016744</td>\n",
       "      <td>0.038884</td>\n",
       "      <td>0.012081</td>\n",
       "      <td>0.061925</td>\n",
       "      <td>0.007142</td>\n",
       "      <td>0.026701</td>\n",
       "      <td>-0.011024</td>\n",
       "    </tr>\n",
       "    <tr>\n",
       "      <th>2</th>\n",
       "      <td>-0.039144</td>\n",
       "      <td>-0.021391</td>\n",
       "      <td>-0.034704</td>\n",
       "      <td>-0.089550</td>\n",
       "      <td>0.060454</td>\n",
       "      <td>-0.042070</td>\n",
       "      <td>0.100869</td>\n",
       "      <td>0.130518</td>\n",
       "      <td>-0.067005</td>\n",
       "      <td>0.088970</td>\n",
       "      <td>...</td>\n",
       "      <td>0.103148</td>\n",
       "      <td>0.036284</td>\n",
       "      <td>-0.050385</td>\n",
       "      <td>0.022605</td>\n",
       "      <td>0.032885</td>\n",
       "      <td>-0.000573</td>\n",
       "      <td>0.053779</td>\n",
       "      <td>0.021603</td>\n",
       "      <td>0.029601</td>\n",
       "      <td>0.015369</td>\n",
       "    </tr>\n",
       "    <tr>\n",
       "      <th>3</th>\n",
       "      <td>-0.054148</td>\n",
       "      <td>-0.033593</td>\n",
       "      <td>-0.062348</td>\n",
       "      <td>-0.096243</td>\n",
       "      <td>0.052012</td>\n",
       "      <td>-0.048855</td>\n",
       "      <td>0.050170</td>\n",
       "      <td>0.130426</td>\n",
       "      <td>-0.035423</td>\n",
       "      <td>0.101087</td>\n",
       "      <td>...</td>\n",
       "      <td>0.088368</td>\n",
       "      <td>0.010062</td>\n",
       "      <td>-0.038597</td>\n",
       "      <td>0.031514</td>\n",
       "      <td>0.011624</td>\n",
       "      <td>0.014437</td>\n",
       "      <td>0.042852</td>\n",
       "      <td>0.024989</td>\n",
       "      <td>0.016962</td>\n",
       "      <td>0.018475</td>\n",
       "    </tr>\n",
       "    <tr>\n",
       "      <th>4</th>\n",
       "      <td>-0.060062</td>\n",
       "      <td>-0.027242</td>\n",
       "      <td>-0.039294</td>\n",
       "      <td>-0.100929</td>\n",
       "      <td>0.055206</td>\n",
       "      <td>-0.043566</td>\n",
       "      <td>0.082062</td>\n",
       "      <td>0.128750</td>\n",
       "      <td>-0.048666</td>\n",
       "      <td>0.091695</td>\n",
       "      <td>...</td>\n",
       "      <td>0.106932</td>\n",
       "      <td>0.036858</td>\n",
       "      <td>-0.056458</td>\n",
       "      <td>0.030766</td>\n",
       "      <td>0.025858</td>\n",
       "      <td>0.016257</td>\n",
       "      <td>0.060411</td>\n",
       "      <td>0.028373</td>\n",
       "      <td>0.022683</td>\n",
       "      <td>0.001653</td>\n",
       "    </tr>\n",
       "    <tr>\n",
       "      <th>5</th>\n",
       "      <td>0.027722</td>\n",
       "      <td>0.027745</td>\n",
       "      <td>-0.047450</td>\n",
       "      <td>-0.054526</td>\n",
       "      <td>0.059847</td>\n",
       "      <td>-0.011157</td>\n",
       "      <td>0.161741</td>\n",
       "      <td>0.123732</td>\n",
       "      <td>-0.087430</td>\n",
       "      <td>0.085111</td>\n",
       "      <td>...</td>\n",
       "      <td>0.091070</td>\n",
       "      <td>0.053377</td>\n",
       "      <td>-0.054374</td>\n",
       "      <td>0.018723</td>\n",
       "      <td>-0.009706</td>\n",
       "      <td>-0.006647</td>\n",
       "      <td>0.057398</td>\n",
       "      <td>0.027132</td>\n",
       "      <td>0.056001</td>\n",
       "      <td>0.072841</td>\n",
       "    </tr>\n",
       "    <tr>\n",
       "      <th>6</th>\n",
       "      <td>-0.034197</td>\n",
       "      <td>-0.010460</td>\n",
       "      <td>-0.058316</td>\n",
       "      <td>-0.090962</td>\n",
       "      <td>0.052264</td>\n",
       "      <td>-0.034730</td>\n",
       "      <td>0.080387</td>\n",
       "      <td>0.133822</td>\n",
       "      <td>-0.063091</td>\n",
       "      <td>0.088065</td>\n",
       "      <td>...</td>\n",
       "      <td>0.096674</td>\n",
       "      <td>0.029329</td>\n",
       "      <td>-0.048702</td>\n",
       "      <td>0.030098</td>\n",
       "      <td>0.008048</td>\n",
       "      <td>0.015879</td>\n",
       "      <td>0.058715</td>\n",
       "      <td>0.033835</td>\n",
       "      <td>0.022425</td>\n",
       "      <td>0.029658</td>\n",
       "    </tr>\n",
       "    <tr>\n",
       "      <th>7</th>\n",
       "      <td>-0.012030</td>\n",
       "      <td>-0.036253</td>\n",
       "      <td>-0.046687</td>\n",
       "      <td>-0.074468</td>\n",
       "      <td>0.058023</td>\n",
       "      <td>-0.051465</td>\n",
       "      <td>0.099205</td>\n",
       "      <td>0.119681</td>\n",
       "      <td>-0.055361</td>\n",
       "      <td>0.068613</td>\n",
       "      <td>...</td>\n",
       "      <td>0.096074</td>\n",
       "      <td>0.036813</td>\n",
       "      <td>-0.038630</td>\n",
       "      <td>0.018051</td>\n",
       "      <td>0.021463</td>\n",
       "      <td>-0.023137</td>\n",
       "      <td>0.046512</td>\n",
       "      <td>0.021000</td>\n",
       "      <td>0.017344</td>\n",
       "      <td>0.039204</td>\n",
       "    </tr>\n",
       "    <tr>\n",
       "      <th>8</th>\n",
       "      <td>-0.041923</td>\n",
       "      <td>-0.043118</td>\n",
       "      <td>-0.050025</td>\n",
       "      <td>-0.095298</td>\n",
       "      <td>0.054262</td>\n",
       "      <td>-0.052029</td>\n",
       "      <td>0.071712</td>\n",
       "      <td>0.129125</td>\n",
       "      <td>-0.036149</td>\n",
       "      <td>0.088446</td>\n",
       "      <td>...</td>\n",
       "      <td>0.095634</td>\n",
       "      <td>0.028847</td>\n",
       "      <td>-0.048054</td>\n",
       "      <td>0.024821</td>\n",
       "      <td>0.016836</td>\n",
       "      <td>-0.005735</td>\n",
       "      <td>0.047435</td>\n",
       "      <td>0.021545</td>\n",
       "      <td>0.013688</td>\n",
       "      <td>0.014882</td>\n",
       "    </tr>\n",
       "    <tr>\n",
       "      <th>9</th>\n",
       "      <td>-0.033800</td>\n",
       "      <td>-0.027144</td>\n",
       "      <td>-0.030981</td>\n",
       "      <td>-0.093649</td>\n",
       "      <td>0.065957</td>\n",
       "      <td>-0.032709</td>\n",
       "      <td>0.101311</td>\n",
       "      <td>0.133010</td>\n",
       "      <td>-0.049015</td>\n",
       "      <td>0.122436</td>\n",
       "      <td>...</td>\n",
       "      <td>0.107207</td>\n",
       "      <td>0.040554</td>\n",
       "      <td>-0.066223</td>\n",
       "      <td>0.016178</td>\n",
       "      <td>0.006763</td>\n",
       "      <td>0.011080</td>\n",
       "      <td>0.044505</td>\n",
       "      <td>0.002788</td>\n",
       "      <td>0.014103</td>\n",
       "      <td>0.004971</td>\n",
       "    </tr>\n",
       "  </tbody>\n",
       "</table>\n",
       "<p>10 rows × 100 columns</p>\n",
       "</div>"
      ],
      "text/plain": [
       "         0         1         2         3         4         5         6   \\\n",
       "0 -0.054458 -0.027328 -0.015995 -0.086978  0.051909 -0.046620  0.099372   \n",
       "1 -0.038013 -0.009144 -0.006346 -0.102329  0.070879 -0.034090  0.143415   \n",
       "2 -0.039144 -0.021391 -0.034704 -0.089550  0.060454 -0.042070  0.100869   \n",
       "3 -0.054148 -0.033593 -0.062348 -0.096243  0.052012 -0.048855  0.050170   \n",
       "4 -0.060062 -0.027242 -0.039294 -0.100929  0.055206 -0.043566  0.082062   \n",
       "5  0.027722  0.027745 -0.047450 -0.054526  0.059847 -0.011157  0.161741   \n",
       "6 -0.034197 -0.010460 -0.058316 -0.090962  0.052264 -0.034730  0.080387   \n",
       "7 -0.012030 -0.036253 -0.046687 -0.074468  0.058023 -0.051465  0.099205   \n",
       "8 -0.041923 -0.043118 -0.050025 -0.095298  0.054262 -0.052029  0.071712   \n",
       "9 -0.033800 -0.027144 -0.030981 -0.093649  0.065957 -0.032709  0.101311   \n",
       "\n",
       "         7         8         9     ...           90        91        92  \\\n",
       "0  0.117895 -0.050922  0.074041    ...     0.096191  0.035673 -0.046638   \n",
       "1  0.127730 -0.084724  0.109901    ...     0.132670  0.060247 -0.078525   \n",
       "2  0.130518 -0.067005  0.088970    ...     0.103148  0.036284 -0.050385   \n",
       "3  0.130426 -0.035423  0.101087    ...     0.088368  0.010062 -0.038597   \n",
       "4  0.128750 -0.048666  0.091695    ...     0.106932  0.036858 -0.056458   \n",
       "5  0.123732 -0.087430  0.085111    ...     0.091070  0.053377 -0.054374   \n",
       "6  0.133822 -0.063091  0.088065    ...     0.096674  0.029329 -0.048702   \n",
       "7  0.119681 -0.055361  0.068613    ...     0.096074  0.036813 -0.038630   \n",
       "8  0.129125 -0.036149  0.088446    ...     0.095634  0.028847 -0.048054   \n",
       "9  0.133010 -0.049015  0.122436    ...     0.107207  0.040554 -0.066223   \n",
       "\n",
       "         93        94        95        96        97        98        99  \n",
       "0  0.020655  0.053338 -0.011624  0.050724  0.022764  0.037663  0.001001  \n",
       "1  0.016744  0.038884  0.012081  0.061925  0.007142  0.026701 -0.011024  \n",
       "2  0.022605  0.032885 -0.000573  0.053779  0.021603  0.029601  0.015369  \n",
       "3  0.031514  0.011624  0.014437  0.042852  0.024989  0.016962  0.018475  \n",
       "4  0.030766  0.025858  0.016257  0.060411  0.028373  0.022683  0.001653  \n",
       "5  0.018723 -0.009706 -0.006647  0.057398  0.027132  0.056001  0.072841  \n",
       "6  0.030098  0.008048  0.015879  0.058715  0.033835  0.022425  0.029658  \n",
       "7  0.018051  0.021463 -0.023137  0.046512  0.021000  0.017344  0.039204  \n",
       "8  0.024821  0.016836 -0.005735  0.047435  0.021545  0.013688  0.014882  \n",
       "9  0.016178  0.006763  0.011080  0.044505  0.002788  0.014103  0.004971  \n",
       "\n",
       "[10 rows x 100 columns]"
      ]
     },
     "execution_count": 10,
     "metadata": {},
     "output_type": "execute_result"
    }
   ],
   "source": [
    "cbow.head(10)"
   ]
  },
  {
   "cell_type": "code",
   "execution_count": 12,
   "metadata": {
    "collapsed": false
   },
   "outputs": [],
   "source": [
    "cbow.to_csv('email_cbow.csv')"
   ]
  },
  {
   "cell_type": "code",
   "execution_count": null,
   "metadata": {
    "collapsed": true
   },
   "outputs": [],
   "source": []
  }
 ],
 "metadata": {
  "anaconda-cloud": {},
  "kernelspec": {
   "display_name": "Python [default]",
   "language": "python",
   "name": "python3"
  },
  "language_info": {
   "codemirror_mode": {
    "name": "ipython",
    "version": 3
   },
   "file_extension": ".py",
   "mimetype": "text/x-python",
   "name": "python",
   "nbconvert_exporter": "python",
   "pygments_lexer": "ipython3",
   "version": "3.5.2"
  }
 },
 "nbformat": 4,
 "nbformat_minor": 1
}
